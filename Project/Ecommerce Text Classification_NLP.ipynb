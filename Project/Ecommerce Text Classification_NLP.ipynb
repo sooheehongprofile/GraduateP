{
 "cells": [
  {
   "cell_type": "markdown",
   "id": "49b212bd",
   "metadata": {},
   "source": [
    "### Context\n",
    "Product categorization also referred to as product classification, is a field of study within natural language processing (NLP). It is also one of the biggest challenges for e-commerce companies. With the advancement of AI technology, researchers have been applying machine learning to product categorization problems.\n",
    "\n",
    "Product categorization is the placement and organization of products into their respective categories. In that sense, it sounds simple: choose the correct department for a product. However, this process is complicated by the sheer volume of products on many e-commerce platforms. Furthermore, many products could belong to multiple categories.\n",
    "There are many reasons why product categorization is important for e-commerce and marketing. Through the accurate classification of your products, you can increase conversion rates, strengthen your search engine, and improve your site’s Google ranking.\n",
    "\n",
    "A well-built product taxonomy allows customers to find what they are looking for quickly and easily. Making your site easy to navigate is one of the most important elements of your UX and will lead to higher conversion rates.\n",
    "\n",
    "Correctly categorizing products allows your search engine to fetch products quicker. As a result, you create a quicker and more accurate search engine. Once you have a strong product taxonomy in place, this will allow you to create the relevant landing pages for your products. In turn, Google and other search engines will be able to index your site and your products more easily. In the end, this allows your products to rank higher on search engines, increasing the chance that customers find your site.\n",
    "\n",
    "To help merchants choose the correct category, Amazon and other e-commerce companies have automated product categorization tools available. After simply inputting the title or a few words about the product, the system can automatically choose the correct category for you."
   ]
  },
  {
   "cell_type": "markdown",
   "id": "f64730d6",
   "metadata": {},
   "source": [
    "### Objective\n",
    "Implement the techniques learned as a part of the course."
   ]
  },
  {
   "cell_type": "markdown",
   "id": "1113aecd",
   "metadata": {},
   "source": [
    "### Dataset\n",
    "- The dataset has the following features:\n",
    "- Data Set Characteristics: Multivariate\n",
    "- Number of Instances: 50424\n",
    "- Number of classes: 4"
   ]
  },
  {
   "cell_type": "markdown",
   "id": "f560615c",
   "metadata": {},
   "source": [
    "#### Import libraries"
   ]
  },
  {
   "cell_type": "code",
   "execution_count": 3,
   "id": "d387c273",
   "metadata": {},
   "outputs": [
    {
     "name": "stdout",
     "output_type": "stream",
     "text": [
      "Collecting contractions\n",
      "  Downloading contractions-0.1.73-py2.py3-none-any.whl (8.7 kB)\n",
      "Collecting textsearch>=0.0.21\n",
      "  Downloading textsearch-0.0.24-py2.py3-none-any.whl (7.6 kB)\n",
      "Collecting pyahocorasick\n",
      "  Downloading pyahocorasick-2.0.0-cp38-cp38-win_amd64.whl (39 kB)\n",
      "Collecting anyascii\n",
      "  Downloading anyascii-0.3.2-py3-none-any.whl (289 kB)\n",
      "Installing collected packages: pyahocorasick, anyascii, textsearch, contractions\n",
      "Successfully installed anyascii-0.3.2 contractions-0.1.73 pyahocorasick-2.0.0 textsearch-0.0.24\n"
     ]
    },
    {
     "name": "stderr",
     "output_type": "stream",
     "text": [
      "[nltk_data] Downloading package stopwords to C:\\Users\\Sue\n",
      "[nltk_data]     Hong\\AppData\\Roaming\\nltk_data...\n",
      "[nltk_data]   Unzipping corpora\\stopwords.zip.\n",
      "[nltk_data] Downloading package punkt to C:\\Users\\Sue\n",
      "[nltk_data]     Hong\\AppData\\Roaming\\nltk_data...\n",
      "[nltk_data]   Unzipping tokenizers\\punkt.zip.\n",
      "[nltk_data] Downloading package wordnet to C:\\Users\\Sue\n",
      "[nltk_data]     Hong\\AppData\\Roaming\\nltk_data...\n"
     ]
    }
   ],
   "source": [
    "# install and import necessary libraries.\n",
    "\n",
    "!pip install contractions\n",
    "\n",
    "import re, string, unicodedata                          # Import Regex, string and unicodedata.\n",
    "import contractions                                     # Import contractions library.\n",
    "from bs4 import BeautifulSoup                           # Import BeautifulSoup.\n",
    "\n",
    "import numpy as np                                      # Import numpy.\n",
    "import pandas as pd                                     # Import pandas.\n",
    "import nltk                                             # Import Natural Language Tool-Kit.\n",
    "\n",
    "nltk.download('stopwords')                              # Download Stopwords.\n",
    "nltk.download('punkt')\n",
    "nltk.download('wordnet')\n",
    "\n",
    "from nltk.corpus import stopwords                       # Import stopwords.\n",
    "from nltk.tokenize import word_tokenize, sent_tokenize  # Import Tokenizer.\n",
    "from nltk.stem.wordnet import WordNetLemmatizer         # Import Lemmatizer.\n",
    "import matplotlib.pyplot as plt \n",
    "from matplotlib.ticker import MaxNLocator\n",
    "import seaborn as sns\n",
    "sns.set_theme()\n",
    "\n",
    "# Ignore the warnings\n",
    "import warnings\n",
    "warnings.filterwarnings(\"ignore\")\n",
    "\n",
    "# Removes the limit for the number of displayed columns\n",
    "pd.set_option(\"display.max_columns\", None)\n",
    "# Sets the limit for the number of displayed rows\n",
    "pd.set_option(\"display.max_rows\", 200)"
   ]
  },
  {
   "cell_type": "code",
   "execution_count": 4,
   "id": "64021552",
   "metadata": {},
   "outputs": [
    {
     "data": {
      "text/html": [
       "<div>\n",
       "<style scoped>\n",
       "    .dataframe tbody tr th:only-of-type {\n",
       "        vertical-align: middle;\n",
       "    }\n",
       "\n",
       "    .dataframe tbody tr th {\n",
       "        vertical-align: top;\n",
       "    }\n",
       "\n",
       "    .dataframe thead th {\n",
       "        text-align: right;\n",
       "    }\n",
       "</style>\n",
       "<table border=\"1\" class=\"dataframe\">\n",
       "  <thead>\n",
       "    <tr style=\"text-align: right;\">\n",
       "      <th></th>\n",
       "      <th>Label</th>\n",
       "      <th>Text</th>\n",
       "    </tr>\n",
       "  </thead>\n",
       "  <tbody>\n",
       "    <tr>\n",
       "      <th>0</th>\n",
       "      <td>Household</td>\n",
       "      <td>Styleys Wrought Iron Coat Rack Hanger Creative...</td>\n",
       "    </tr>\n",
       "    <tr>\n",
       "      <th>1</th>\n",
       "      <td>Household</td>\n",
       "      <td>Cuisinart CCO-50BKN Deluxe Electric Can Opener...</td>\n",
       "    </tr>\n",
       "    <tr>\n",
       "      <th>2</th>\n",
       "      <td>Household</td>\n",
       "      <td>Anchor Penta 6 Amp 1 -Way Switch (White) - Pac...</td>\n",
       "    </tr>\n",
       "    <tr>\n",
       "      <th>3</th>\n",
       "      <td>Clothing &amp; Accessories</td>\n",
       "      <td>Proline Men's Track Jacket Proline Woven, 100%...</td>\n",
       "    </tr>\n",
       "    <tr>\n",
       "      <th>4</th>\n",
       "      <td>Household</td>\n",
       "      <td>Chef's Garage 2 Slot Edge Grip Kitchen Knife S...</td>\n",
       "    </tr>\n",
       "  </tbody>\n",
       "</table>\n",
       "</div>"
      ],
      "text/plain": [
       "                    Label                                               Text\n",
       "0               Household  Styleys Wrought Iron Coat Rack Hanger Creative...\n",
       "1               Household  Cuisinart CCO-50BKN Deluxe Electric Can Opener...\n",
       "2               Household  Anchor Penta 6 Amp 1 -Way Switch (White) - Pac...\n",
       "3  Clothing & Accessories  Proline Men's Track Jacket Proline Woven, 100%...\n",
       "4               Household  Chef's Garage 2 Slot Edge Grip Kitchen Knife S..."
      ]
     },
     "execution_count": 4,
     "metadata": {},
     "output_type": "execute_result"
    }
   ],
   "source": [
    "# Loading data into pandas dataframe\n",
    "data = pd.read_csv(\"ecommerceDataset.csv\")\n",
    "data.head()"
   ]
  },
  {
   "cell_type": "code",
   "execution_count": 6,
   "id": "b2388bcd",
   "metadata": {},
   "outputs": [
    {
     "data": {
      "text/plain": [
       "(50424, 2)"
      ]
     },
     "execution_count": 6,
     "metadata": {},
     "output_type": "execute_result"
    }
   ],
   "source": [
    "data.shape"
   ]
  },
  {
   "cell_type": "markdown",
   "id": "6d39c940",
   "metadata": {},
   "source": [
    "- There are 50,424 rows and 2 columns"
   ]
  },
  {
   "cell_type": "markdown",
   "id": "c60fd3b9",
   "metadata": {},
   "source": [
    "#### Exploratory Data Analysis\n",
    "     a. Print Shape of data.\n",
    "     b. Print data description and info about the data. Comment about the result.\n",
    "     c. Check the data type of the Text column’s first value.\n",
    "     d. Check for null values and remove the rows in which null values are present.\n",
    "     e. Check for unique labels in the ‘Label’ column.\n",
    "     f. Save the unique labels in the list named ‘labels’.\n",
    "     g. Print the first 5 rows of data."
   ]
  },
  {
   "cell_type": "code",
   "execution_count": 7,
   "id": "e8aaf94b",
   "metadata": {},
   "outputs": [
    {
     "data": {
      "text/plain": [
       "(50424, 2)"
      ]
     },
     "execution_count": 7,
     "metadata": {},
     "output_type": "execute_result"
    }
   ],
   "source": [
    "#get the shape of data\n",
    "data.shape"
   ]
  },
  {
   "cell_type": "markdown",
   "id": "ec053847",
   "metadata": {},
   "source": [
    "- The dataset has 50,424 enteries and 2 columns which are labels and text"
   ]
  },
  {
   "cell_type": "code",
   "execution_count": 8,
   "id": "136e9915",
   "metadata": {
    "scrolled": true
   },
   "outputs": [
    {
     "data": {
      "text/html": [
       "<div>\n",
       "<style scoped>\n",
       "    .dataframe tbody tr th:only-of-type {\n",
       "        vertical-align: middle;\n",
       "    }\n",
       "\n",
       "    .dataframe tbody tr th {\n",
       "        vertical-align: top;\n",
       "    }\n",
       "\n",
       "    .dataframe thead th {\n",
       "        text-align: right;\n",
       "    }\n",
       "</style>\n",
       "<table border=\"1\" class=\"dataframe\">\n",
       "  <thead>\n",
       "    <tr style=\"text-align: right;\">\n",
       "      <th></th>\n",
       "      <th>Label</th>\n",
       "      <th>Text</th>\n",
       "    </tr>\n",
       "  </thead>\n",
       "  <tbody>\n",
       "    <tr>\n",
       "      <th>0</th>\n",
       "      <td>Household</td>\n",
       "      <td>Styleys Wrought Iron Coat Rack Hanger Creative...</td>\n",
       "    </tr>\n",
       "    <tr>\n",
       "      <th>1</th>\n",
       "      <td>Household</td>\n",
       "      <td>Cuisinart CCO-50BKN Deluxe Electric Can Opener...</td>\n",
       "    </tr>\n",
       "    <tr>\n",
       "      <th>2</th>\n",
       "      <td>Household</td>\n",
       "      <td>Anchor Penta 6 Amp 1 -Way Switch (White) - Pac...</td>\n",
       "    </tr>\n",
       "    <tr>\n",
       "      <th>3</th>\n",
       "      <td>Clothing &amp; Accessories</td>\n",
       "      <td>Proline Men's Track Jacket Proline Woven, 100%...</td>\n",
       "    </tr>\n",
       "    <tr>\n",
       "      <th>4</th>\n",
       "      <td>Household</td>\n",
       "      <td>Chef's Garage 2 Slot Edge Grip Kitchen Knife S...</td>\n",
       "    </tr>\n",
       "    <tr>\n",
       "      <th>5</th>\n",
       "      <td>Household</td>\n",
       "      <td>SYGA Electric Knife Sharpener, Multi-Functiona...</td>\n",
       "    </tr>\n",
       "    <tr>\n",
       "      <th>6</th>\n",
       "      <td>Household</td>\n",
       "      <td>Disha Napkin Dispenser - Chrome You are going ...</td>\n",
       "    </tr>\n",
       "    <tr>\n",
       "      <th>7</th>\n",
       "      <td>Electronics</td>\n",
       "      <td>Sony Alpha A6000L 24.3MP Digital SLR Camera (B...</td>\n",
       "    </tr>\n",
       "    <tr>\n",
       "      <th>8</th>\n",
       "      <td>Electronics</td>\n",
       "      <td>xcluma Antenna for GSM FCT Device GSM FCT Cabl...</td>\n",
       "    </tr>\n",
       "    <tr>\n",
       "      <th>9</th>\n",
       "      <td>Household</td>\n",
       "      <td>KitschKitsch Kids Plastic Portable Folding Tab...</td>\n",
       "    </tr>\n",
       "  </tbody>\n",
       "</table>\n",
       "</div>"
      ],
      "text/plain": [
       "                    Label                                               Text\n",
       "0               Household  Styleys Wrought Iron Coat Rack Hanger Creative...\n",
       "1               Household  Cuisinart CCO-50BKN Deluxe Electric Can Opener...\n",
       "2               Household  Anchor Penta 6 Amp 1 -Way Switch (White) - Pac...\n",
       "3  Clothing & Accessories  Proline Men's Track Jacket Proline Woven, 100%...\n",
       "4               Household  Chef's Garage 2 Slot Edge Grip Kitchen Knife S...\n",
       "5               Household  SYGA Electric Knife Sharpener, Multi-Functiona...\n",
       "6               Household  Disha Napkin Dispenser - Chrome You are going ...\n",
       "7             Electronics  Sony Alpha A6000L 24.3MP Digital SLR Camera (B...\n",
       "8             Electronics  xcluma Antenna for GSM FCT Device GSM FCT Cabl...\n",
       "9               Household  KitschKitsch Kids Plastic Portable Folding Tab..."
      ]
     },
     "execution_count": 8,
     "metadata": {},
     "output_type": "execute_result"
    }
   ],
   "source": [
    "#check first 10 data\n",
    "data.head(10)"
   ]
  },
  {
   "cell_type": "markdown",
   "id": "62bfa340",
   "metadata": {},
   "source": [
    "Observations and data descriptions:\n",
    "\n",
    "    - Label: categorization of the product into 4 labels;Household, Clothing&Accessories, Electronics,\n",
    "             Books)\n",
    "    - Text: description about the product that the customer bought"
   ]
  },
  {
   "cell_type": "code",
   "execution_count": 13,
   "id": "cd3b6ce5",
   "metadata": {
    "scrolled": true
   },
   "outputs": [
    {
     "data": {
      "text/plain": [
       "Label    object\n",
       "Text     object\n",
       "dtype: object"
      ]
     },
     "execution_count": 13,
     "metadata": {},
     "output_type": "execute_result"
    }
   ],
   "source": [
    "#check the data type\n",
    "data.dtypes"
   ]
  },
  {
   "cell_type": "markdown",
   "id": "37deed62",
   "metadata": {},
   "source": [
    "- Both 'Label' and 'Text' are object"
   ]
  },
  {
   "cell_type": "code",
   "execution_count": 15,
   "id": "5908ce96",
   "metadata": {
    "scrolled": true
   },
   "outputs": [
    {
     "data": {
      "text/plain": [
       "Label    0\n",
       "Text     1\n",
       "dtype: int64"
      ]
     },
     "execution_count": 15,
     "metadata": {},
     "output_type": "execute_result"
    }
   ],
   "source": [
    "#check null values\n",
    "data.isnull().sum(axis=0)"
   ]
  },
  {
   "cell_type": "markdown",
   "id": "21463673",
   "metadata": {},
   "source": [
    "- There's no missing value in 'Label' column\n",
    "- Only one missing value in 'Text' column - remove the row that has missing value"
   ]
  },
  {
   "cell_type": "code",
   "execution_count": 17,
   "id": "e0a751b6",
   "metadata": {},
   "outputs": [],
   "source": [
    "#remove the row that has null value\n",
    "df=data.dropna(how='any',axis=0)"
   ]
  },
  {
   "cell_type": "code",
   "execution_count": 18,
   "id": "21c63f0d",
   "metadata": {
    "scrolled": true
   },
   "outputs": [
    {
     "data": {
      "text/plain": [
       "array(['Household', 'Clothing & Accessories', 'Electronics', 'Books'],\n",
       "      dtype=object)"
      ]
     },
     "execution_count": 18,
     "metadata": {},
     "output_type": "execute_result"
    }
   ],
   "source": [
    "#check unique values in 'Label' \n",
    "df['Label'].unique()"
   ]
  },
  {
   "cell_type": "markdown",
   "id": "00d17d8f",
   "metadata": {},
   "source": [
    "- The unique values in the 'Label' column are 'Household', 'Clothing & Accessories', 'Electronics', 'Books'"
   ]
  },
  {
   "cell_type": "code",
   "execution_count": 19,
   "id": "2986d752",
   "metadata": {},
   "outputs": [],
   "source": [
    "#Save the unique labels in the list named 'labels’.\n",
    "labels=['Household', 'Clothing & Accessories', 'Electronics', 'Books']"
   ]
  },
  {
   "cell_type": "code",
   "execution_count": 20,
   "id": "d71f6c79",
   "metadata": {},
   "outputs": [
    {
     "data": {
      "text/html": [
       "<div>\n",
       "<style scoped>\n",
       "    .dataframe tbody tr th:only-of-type {\n",
       "        vertical-align: middle;\n",
       "    }\n",
       "\n",
       "    .dataframe tbody tr th {\n",
       "        vertical-align: top;\n",
       "    }\n",
       "\n",
       "    .dataframe thead th {\n",
       "        text-align: right;\n",
       "    }\n",
       "</style>\n",
       "<table border=\"1\" class=\"dataframe\">\n",
       "  <thead>\n",
       "    <tr style=\"text-align: right;\">\n",
       "      <th></th>\n",
       "      <th>Label</th>\n",
       "      <th>Text</th>\n",
       "    </tr>\n",
       "  </thead>\n",
       "  <tbody>\n",
       "    <tr>\n",
       "      <th>0</th>\n",
       "      <td>Household</td>\n",
       "      <td>Styleys Wrought Iron Coat Rack Hanger Creative...</td>\n",
       "    </tr>\n",
       "    <tr>\n",
       "      <th>1</th>\n",
       "      <td>Household</td>\n",
       "      <td>Cuisinart CCO-50BKN Deluxe Electric Can Opener...</td>\n",
       "    </tr>\n",
       "    <tr>\n",
       "      <th>2</th>\n",
       "      <td>Household</td>\n",
       "      <td>Anchor Penta 6 Amp 1 -Way Switch (White) - Pac...</td>\n",
       "    </tr>\n",
       "    <tr>\n",
       "      <th>3</th>\n",
       "      <td>Clothing &amp; Accessories</td>\n",
       "      <td>Proline Men's Track Jacket Proline Woven, 100%...</td>\n",
       "    </tr>\n",
       "    <tr>\n",
       "      <th>4</th>\n",
       "      <td>Household</td>\n",
       "      <td>Chef's Garage 2 Slot Edge Grip Kitchen Knife S...</td>\n",
       "    </tr>\n",
       "  </tbody>\n",
       "</table>\n",
       "</div>"
      ],
      "text/plain": [
       "                    Label                                               Text\n",
       "0               Household  Styleys Wrought Iron Coat Rack Hanger Creative...\n",
       "1               Household  Cuisinart CCO-50BKN Deluxe Electric Can Opener...\n",
       "2               Household  Anchor Penta 6 Amp 1 -Way Switch (White) - Pac...\n",
       "3  Clothing & Accessories  Proline Men's Track Jacket Proline Woven, 100%...\n",
       "4               Household  Chef's Garage 2 Slot Edge Grip Kitchen Knife S..."
      ]
     },
     "execution_count": 20,
     "metadata": {},
     "output_type": "execute_result"
    }
   ],
   "source": [
    "#Print first 5 rows\n",
    "df.head(5)"
   ]
  },
  {
   "cell_type": "markdown",
   "id": "32ba80a5",
   "metadata": {},
   "source": [
    "#### Plot the word cloud graph of the text column description for each product('Household', 'Clothing & Accessories', 'Electronics', 'Books')"
   ]
  },
  {
   "cell_type": "code",
   "execution_count": 30,
   "id": "05f24f20",
   "metadata": {},
   "outputs": [],
   "source": [
    "from wordcloud import WordCloud, STOPWORDS\n",
    "\n",
    "#word cloud graph for 'household'\n",
    "HD = df[df[\"Label\"] == \"Household\"]\n",
    "description = \" \".join(HD[\"Text\"])"
   ]
  },
  {
   "cell_type": "code",
   "execution_count": 32,
   "id": "cd44a4a3",
   "metadata": {},
   "outputs": [],
   "source": [
    "wordcloud = WordCloud(stopwords=STOPWORDS, background_color=\"black\", \n",
    "                      width=3000, height=2500).generate(description)"
   ]
  },
  {
   "cell_type": "code",
   "execution_count": 33,
   "id": "c6f9c0ab",
   "metadata": {},
   "outputs": [],
   "source": [
    "plt.figure(1, figsize=(15, 15))\n",
    "plt.imshow(wordcloud)\n",
    "plt.axis(\"off\")\n",
    "plt.show()"
   ]
  },
  {
   "cell_type": "code",
   "execution_count": null,
   "id": "6d93556a",
   "metadata": {},
   "outputs": [],
   "source": [
    "#word cloud graph for 'clothing&accessories'\n",
    "CA = df[df[\"Label\"] == \"Clothing & Accessories\"]\n",
    "description2 = \" \".join(CA[\"Text\"])"
   ]
  },
  {
   "cell_type": "code",
   "execution_count": null,
   "id": "635386a3",
   "metadata": {},
   "outputs": [],
   "source": [
    "wordcloud2 = WordCloud(stopwords=STOPWORDS, background_color=\"black\", \n",
    "                      width=3000, height=2500).generate(description2)"
   ]
  },
  {
   "cell_type": "code",
   "execution_count": null,
   "id": "260a1e9c",
   "metadata": {},
   "outputs": [],
   "source": [
    "plt.figure(1, figsize=(15, 15))\n",
    "plt.imshow(wordcloud2)\n",
    "plt.axis(\"off\")\n",
    "plt.show()"
   ]
  },
  {
   "cell_type": "code",
   "execution_count": null,
   "id": "19b3d8c3",
   "metadata": {},
   "outputs": [],
   "source": [
    "#word cloud graph for 'Electronics'\n",
    "ES = df[df[\"Label\"] == \"Electronics\"]\n",
    "description3 = \" \".join(CA[\"Text\"])"
   ]
  },
  {
   "cell_type": "code",
   "execution_count": null,
   "id": "972d9166",
   "metadata": {},
   "outputs": [],
   "source": [
    "wordcloud3 = WordCloud(stopwords=STOPWORDS, background_color=\"black\", \n",
    "                      width=3000, height=2500).generate(description3)"
   ]
  },
  {
   "cell_type": "code",
   "execution_count": null,
   "id": "d078dbbd",
   "metadata": {},
   "outputs": [],
   "source": [
    "plt.figure(1, figsize=(15, 15))\n",
    "plt.imshow(wordcloud3)\n",
    "plt.axis(\"off\")\n",
    "plt.show()"
   ]
  },
  {
   "cell_type": "code",
   "execution_count": null,
   "id": "5d399c86",
   "metadata": {},
   "outputs": [],
   "source": [
    "#word cloud graph for 'Books'\n",
    "BS = df[df[\"Label\"] == \"Books\"]\n",
    "description4 = \" \".join(BS[\"Text\"])"
   ]
  },
  {
   "cell_type": "code",
   "execution_count": null,
   "id": "bc942e5e",
   "metadata": {},
   "outputs": [],
   "source": [
    "wordcloud4 = WordCloud(stopwords=STOPWORDS, background_color=\"black\", \n",
    "                      width=3000, height=2500).generate(description4)"
   ]
  },
  {
   "cell_type": "code",
   "execution_count": null,
   "id": "eaf3c5dc",
   "metadata": {},
   "outputs": [],
   "source": [
    "plt.figure(1, figsize=(15, 15))\n",
    "plt.imshow(wordcloud4)\n",
    "plt.axis(\"off\")\n",
    "plt.show()"
   ]
  },
  {
   "cell_type": "markdown",
   "id": "1e59c9f7",
   "metadata": {},
   "source": [
    "#### Text pre-processing\n",
    "    a. Html tag removal.\n",
    "    b. Tokenization.\n",
    "    c. Remove the numbers.\n",
    "    d. Removal of Special Characters and Punctuations.\n",
    "    e. Removal of stopwords\n",
    "    f. Conversion to lowercase.\n",
    "    g. Lemmatize or stemming.\n",
    "    h. Join the words in the list to convert back to text string in the data frame. (So that each row\n",
    "       contains the data in text format.)\n",
    "    i. Print the first 5 rows of data after pre-processing."
   ]
  },
  {
   "cell_type": "code",
   "execution_count": 36,
   "id": "d5d48f14",
   "metadata": {},
   "outputs": [
    {
     "data": {
      "text/html": [
       "<div>\n",
       "<style scoped>\n",
       "    .dataframe tbody tr th:only-of-type {\n",
       "        vertical-align: middle;\n",
       "    }\n",
       "\n",
       "    .dataframe tbody tr th {\n",
       "        vertical-align: top;\n",
       "    }\n",
       "\n",
       "    .dataframe thead th {\n",
       "        text-align: right;\n",
       "    }\n",
       "</style>\n",
       "<table border=\"1\" class=\"dataframe\">\n",
       "  <thead>\n",
       "    <tr style=\"text-align: right;\">\n",
       "      <th></th>\n",
       "      <th>Label</th>\n",
       "      <th>Text</th>\n",
       "    </tr>\n",
       "  </thead>\n",
       "  <tbody>\n",
       "    <tr>\n",
       "      <th>0</th>\n",
       "      <td>Household</td>\n",
       "      <td>Styleys Wrought Iron Coat Rack Hanger Creative...</td>\n",
       "    </tr>\n",
       "    <tr>\n",
       "      <th>1</th>\n",
       "      <td>Household</td>\n",
       "      <td>Cuisinart CCO-50BKN Deluxe Electric Can Opener...</td>\n",
       "    </tr>\n",
       "    <tr>\n",
       "      <th>2</th>\n",
       "      <td>Household</td>\n",
       "      <td>Anchor Penta 6 Amp 1 -Way Switch (White) - Pac...</td>\n",
       "    </tr>\n",
       "    <tr>\n",
       "      <th>3</th>\n",
       "      <td>Clothing &amp; Accessories</td>\n",
       "      <td>Proline Men's Track Jacket Proline Woven, 100%...</td>\n",
       "    </tr>\n",
       "    <tr>\n",
       "      <th>4</th>\n",
       "      <td>Household</td>\n",
       "      <td>Chef's Garage 2 Slot Edge Grip Kitchen Knife S...</td>\n",
       "    </tr>\n",
       "  </tbody>\n",
       "</table>\n",
       "</div>"
      ],
      "text/plain": [
       "                    Label                                               Text\n",
       "0               Household  Styleys Wrought Iron Coat Rack Hanger Creative...\n",
       "1               Household  Cuisinart CCO-50BKN Deluxe Electric Can Opener...\n",
       "2               Household  Anchor Penta 6 Amp 1 -Way Switch (White) - Pac...\n",
       "3  Clothing & Accessories  Proline Men's Track Jacket Proline Woven, 100%...\n",
       "4               Household  Chef's Garage 2 Slot Edge Grip Kitchen Knife S..."
      ]
     },
     "execution_count": 36,
     "metadata": {},
     "output_type": "execute_result"
    }
   ],
   "source": [
    "#remove html tag\n",
    "def remove_html(Text):\n",
    "    soup = BeautifulSoup(Text, \"html.parser\")\n",
    "    return soup.get_text()\n",
    "\n",
    "df['Text'] = df['Text'].apply(lambda x: remove_html(x))\n",
    "df.head()"
   ]
  },
  {
   "cell_type": "code",
   "execution_count": 37,
   "id": "b8ed59a3",
   "metadata": {},
   "outputs": [],
   "source": [
    "# Tokenization of the dataset\n",
    "df['Text'] = df.apply(lambda row: nltk.word_tokenize(row['Text']), axis=1) "
   ]
  },
  {
   "cell_type": "code",
   "execution_count": 59,
   "id": "98950fb0",
   "metadata": {
    "scrolled": true
   },
   "outputs": [
    {
     "data": {
      "text/plain": [
       "\"def remove_numbers(Text):\\n  Text = re.sub(r'\\\\d+', '', Text)\\n  return Text\\n\\ndf['Text'] = df['Text'].apply(lambda x: remove_numbers(x))\\ndf.head()\""
      ]
     },
     "execution_count": 59,
     "metadata": {},
     "output_type": "execute_result"
    }
   ],
   "source": [
    "#remove numbers\n",
    "def remove_numbers(Text):\n",
    "  Text = re.sub(r'\\d+', '', Text)\n",
    "  return Text\n",
    "\n",
    "df['Text'] = df['Text'].apply(lambda x: remove_numbers(x))\n",
    "df.head()"
   ]
  },
  {
   "cell_type": "code",
   "execution_count": 54,
   "id": "25239f72",
   "metadata": {},
   "outputs": [],
   "source": [
    "#remove special characters(\\) and punctuations\n",
    "def replace_contractions(Text):\n",
    "    #Replace contractions in string of text\n",
    "    return contractions.fix(Text)"
   ]
  },
  {
   "cell_type": "code",
   "execution_count": 57,
   "id": "3fcff590",
   "metadata": {},
   "outputs": [],
   "source": [
    "df['Text'] = df['Text'].apply(lambda x:replace_contractions(x))"
   ]
  },
  {
   "cell_type": "code",
   "execution_count": 60,
   "id": "c10737f5",
   "metadata": {},
   "outputs": [],
   "source": [
    "#remove stopwords\n",
    "stopwords = stopwords.words('english')\n",
    "\n",
    "customlist = ['not', \"couldn't\", 'didn', \"didn't\", 'doesn', \"doesn't\", 'hadn', \"hadn't\", 'hasn',\n",
    "        \"hasn't\", 'haven', \"haven't\", 'isn', \"isn't\", 'ma', 'mightn', \"mightn't\", 'mustn',\n",
    "        \"mustn't\", 'needn', \"needn't\", 'shan', \"shan't\", 'shouldn', \"shouldn't\", 'wasn',\n",
    "        \"wasn't\", 'weren', \"weren't\", 'won', \"won't\", 'wouldn', \"wouldn't\",\"aren't\",'aren']\n",
    "\n",
    "\n",
    "stopwords = list(set(stopwords) - set(customlist))                              "
   ]
  },
  {
   "cell_type": "code",
   "execution_count": 66,
   "id": "e3dc7a1c",
   "metadata": {},
   "outputs": [],
   "source": [
    "#convert to lowercase\n",
    "def convert_lower(Text):\n",
    "    Text = Text.lower()\n",
    "    return Text"
   ]
  },
  {
   "cell_type": "code",
   "execution_count": 68,
   "id": "3a3dcaaf",
   "metadata": {},
   "outputs": [],
   "source": [
    "df[\"Text\"] = df[\"Text\"].apply(lambda x: convert_lower(x))"
   ]
  },
  {
   "cell_type": "code",
   "execution_count": 73,
   "id": "b2cc8668",
   "metadata": {},
   "outputs": [],
   "source": [
    "#Lemmatize/stemming\n",
    "lemmatizer = WordNetLemmatizer()\n",
    "\n",
    "def lemmatize_list(words):\n",
    "    new_words = []\n",
    "    for word in words:\n",
    "      new_words.append(lemmatizer.lemmatize(word, pos='v'))\n",
    "    return new_words\n",
    "\n",
    "def normalize(words):\n",
    "    words = lemmatize_list(words)\n",
    "    return ' '.join(words)"
   ]
  },
  {
   "cell_type": "code",
   "execution_count": 74,
   "id": "f7a4e6eb",
   "metadata": {},
   "outputs": [],
   "source": [
    "df['Text'] = df.apply(lambda row: normalize(row['Text']), axis=1)"
   ]
  },
  {
   "cell_type": "code",
   "execution_count": 75,
   "id": "06abb043",
   "metadata": {},
   "outputs": [
    {
     "data": {
      "text/html": [
       "<div>\n",
       "<style scoped>\n",
       "    .dataframe tbody tr th:only-of-type {\n",
       "        vertical-align: middle;\n",
       "    }\n",
       "\n",
       "    .dataframe tbody tr th {\n",
       "        vertical-align: top;\n",
       "    }\n",
       "\n",
       "    .dataframe thead th {\n",
       "        text-align: right;\n",
       "    }\n",
       "</style>\n",
       "<table border=\"1\" class=\"dataframe\">\n",
       "  <thead>\n",
       "    <tr style=\"text-align: right;\">\n",
       "      <th></th>\n",
       "      <th>Label</th>\n",
       "      <th>Text</th>\n",
       "    </tr>\n",
       "  </thead>\n",
       "  <tbody>\n",
       "    <tr>\n",
       "      <th>0</th>\n",
       "      <td>Household</td>\n",
       "      <td>Styleys Wrought Iron Coat Rack Hanger Creative...</td>\n",
       "    </tr>\n",
       "    <tr>\n",
       "      <th>1</th>\n",
       "      <td>Household</td>\n",
       "      <td>Cuisinart CCO-50BKN Deluxe Electric Can Opener...</td>\n",
       "    </tr>\n",
       "    <tr>\n",
       "      <th>2</th>\n",
       "      <td>Household</td>\n",
       "      <td>Anchor Penta 6 Amp 1 -Way Switch ( White ) - P...</td>\n",
       "    </tr>\n",
       "    <tr>\n",
       "      <th>3</th>\n",
       "      <td>Clothing &amp; Accessories</td>\n",
       "      <td>Proline Men 's Track Jacket Proline Woven , 10...</td>\n",
       "    </tr>\n",
       "    <tr>\n",
       "      <th>4</th>\n",
       "      <td>Household</td>\n",
       "      <td>Chef 's Garage 2 Slot Edge Grip Kitchen Knife ...</td>\n",
       "    </tr>\n",
       "  </tbody>\n",
       "</table>\n",
       "</div>"
      ],
      "text/plain": [
       "                    Label                                               Text\n",
       "0               Household  Styleys Wrought Iron Coat Rack Hanger Creative...\n",
       "1               Household  Cuisinart CCO-50BKN Deluxe Electric Can Opener...\n",
       "2               Household  Anchor Penta 6 Amp 1 -Way Switch ( White ) - P...\n",
       "3  Clothing & Accessories  Proline Men 's Track Jacket Proline Woven , 10...\n",
       "4               Household  Chef 's Garage 2 Slot Edge Grip Kitchen Knife ..."
      ]
     },
     "execution_count": 75,
     "metadata": {},
     "output_type": "execute_result"
    }
   ],
   "source": [
    "df.head(5)"
   ]
  },
  {
   "cell_type": "markdown",
   "id": "4035fc7a",
   "metadata": {},
   "source": [
    "#### Vectorization\n",
    "       a. Use CountVectorizer.\n",
    "       b. Use TfidfVectorizer."
   ]
  },
  {
   "cell_type": "markdown",
   "id": "530dff40",
   "metadata": {},
   "source": [
    "#### a. CountVectorizer"
   ]
  },
  {
   "cell_type": "code",
   "execution_count": 76,
   "id": "81ded45d",
   "metadata": {},
   "outputs": [],
   "source": [
    "##convert text data to numbers by using countvectorizer\n",
    "from sklearn.feature_extraction.text import CountVectorizer\n",
    "\n",
    "Count_vec = CountVectorizer(max_features=5000) #Keep max to 5000 features\n",
    "data_features = Count_vec.fit_transform(df['Text'])\n",
    "\n",
    "# Convert the data features to array.\n",
    "data_features = data_features.toarray()                        "
   ]
  },
  {
   "cell_type": "code",
   "execution_count": 77,
   "id": "393be2af",
   "metadata": {
    "scrolled": true
   },
   "outputs": [
    {
     "data": {
      "text/plain": [
       "(50423, 5000)"
      ]
     },
     "execution_count": 77,
     "metadata": {},
     "output_type": "execute_result"
    }
   ],
   "source": [
    "data_features.shape"
   ]
  },
  {
   "cell_type": "markdown",
   "id": "573a23a9",
   "metadata": {},
   "source": [
    "- Now the features increased to 5,000 from 2 "
   ]
  },
  {
   "cell_type": "code",
   "execution_count": 80,
   "id": "270de730",
   "metadata": {},
   "outputs": [],
   "source": [
    "X = data_features\n",
    "y = df.Label"
   ]
  },
  {
   "cell_type": "code",
   "execution_count": 81,
   "id": "2a36f22a",
   "metadata": {},
   "outputs": [],
   "source": [
    "# Split data into training and testing set.\n",
    "\n",
    "from sklearn.model_selection import train_test_split\n",
    "\n",
    "X_train, X_test, y_train, y_test = train_test_split(X, y, test_size=0.3, random_state=42)"
   ]
  },
  {
   "cell_type": "code",
   "execution_count": 82,
   "id": "28dd3dbc",
   "metadata": {},
   "outputs": [
    {
     "name": "stdout",
     "output_type": "stream",
     "text": [
      "RandomForestClassifier(n_estimators=10, n_jobs=4)\n",
      "0.9689428039054532\n"
     ]
    }
   ],
   "source": [
    "# build RF model for the classification of 'text'.\n",
    "from sklearn.ensemble import RandomForestClassifier\n",
    "from sklearn.model_selection import cross_val_score\n",
    "\n",
    "forest = RandomForestClassifier(n_estimators=10, n_jobs=4)\n",
    "forest = forest.fit(X_train, y_train)\n",
    "\n",
    "print(forest)\n",
    "\n",
    "# calculate the cross validation score.\n",
    "print(np.mean(cross_val_score(forest, X, y, cv=10)))"
   ]
  },
  {
   "cell_type": "code",
   "execution_count": 83,
   "id": "10e71f28",
   "metadata": {},
   "outputs": [
    {
     "data": {
      "text/plain": [
       "[1,\n",
       " 2,\n",
       " 3,\n",
       " 4,\n",
       " 5,\n",
       " 6,\n",
       " 7,\n",
       " 8,\n",
       " 9,\n",
       " 10,\n",
       " 11,\n",
       " 12,\n",
       " 13,\n",
       " 14,\n",
       " 15,\n",
       " 16,\n",
       " 17,\n",
       " 18,\n",
       " 19,\n",
       " 20,\n",
       " 21,\n",
       " 22,\n",
       " 23,\n",
       " 24]"
      ]
     },
     "execution_count": 83,
     "metadata": {},
     "output_type": "execute_result"
    }
   ],
   "source": [
    "# Find optimal number of base learners using k-fold CV\n",
    "base = [x for x in range(1, 25)]\n",
    "base"
   ]
  },
  {
   "cell_type": "code",
   "execution_count": 84,
   "id": "5c25c288",
   "metadata": {},
   "outputs": [],
   "source": [
    "from sklearn.model_selection import KFold, StratifiedKFold,cross_val_score\n",
    "from sklearn.metrics import accuracy_score,classification_report\n",
    "\n",
    "import seaborn as sns"
   ]
  },
  {
   "cell_type": "code",
   "execution_count": 86,
   "id": "395f0141",
   "metadata": {},
   "outputs": [],
   "source": [
    "# K-Fold Cross validation .\n",
    "cv_scores = []\n",
    "for b in base:\n",
    "    clf = RandomForestClassifier(n_estimators = b)\n",
    "    scores = cross_val_score(clf, X_train, y_train, cv = 5, scoring = 'accuracy')\n",
    "    cv_scores.append(scores.mean())"
   ]
  },
  {
   "cell_type": "code",
   "execution_count": 87,
   "id": "de109a6c",
   "metadata": {
    "scrolled": true
   },
   "outputs": [
    {
     "data": {
      "image/png": "[encoded data removed]",
      "text/plain": [
       "<Figure size 432x288 with 1 Axes>"
      ]
     },
     "metadata": {},
     "output_type": "display_data"
    }
   ],
   "source": [
    "# plotting the error as k increases\n",
    "#error corresponds to each nu of estimator\n",
    "error = [1 - x for x in cv_scores]      \n",
    "\n",
    "#Selection of optimal nu of n_estimator corresponds to minimum error.\n",
    "optimal_learners = base[error.index(min(error))]   \n",
    "\n",
    "#Plot between each nu of estimator and misclassification error\n",
    "plt.plot(base, error)                                  \n",
    "\n",
    "xy = (optimal_learners, min(error))\n",
    "plt.annotate('(%s, %s)' % xy, xy = xy, textcoords='data')\n",
    "plt.xlabel(\"Number of base learners\")\n",
    "plt.ylabel(\"Misclassification Error\")\n",
    "plt.show()"
   ]
  },
  {
   "cell_type": "markdown",
   "id": "e56821ba",
   "metadata": {},
   "source": [
    "- The misclassification error went down to almost 0.04%"
   ]
  },
  {
   "cell_type": "code",
   "execution_count": 89,
   "id": "49a5130a",
   "metadata": {},
   "outputs": [
    {
     "name": "stdout",
     "output_type": "stream",
     "text": [
      "                        precision    recall  f1-score   support\n",
      "\n",
      "             Household       0.97      0.97      0.97      3590\n",
      "Clothing & Accessories       0.97      0.98      0.97      2596\n",
      "           Electronics       0.97      0.94      0.96      3167\n",
      "                 Books       0.95      0.97      0.96      5774\n",
      "\n",
      "              accuracy                           0.97     15127\n",
      "             macro avg       0.97      0.97      0.97     15127\n",
      "          weighted avg       0.97      0.97      0.97     15127\n",
      "\n",
      "Accuracy of the model is :  0.966615984663185\n"
     ]
    }
   ],
   "source": [
    "# Training the model and calculating accuracy on test data .\n",
    "clf = RandomForestClassifier(n_estimators=optimal_learners)\n",
    "clf.fit(X_train, y_train)\n",
    "clf.score(X_test, y_test)\n",
    "count_vectorizer_predicted = clf.predict(X_test)\n",
    "print(\n",
    "    classification_report(\n",
    "        y_test, count_vectorizer_predicted, target_names=[\"Household\", \"Clothing & Accessories\", \"Electronics\",\"Books\"]\n",
    "    )\n",
    ")\n",
    "print(\"Accuracy of the model is : \", accuracy_score(y_test, count_vectorizer_predicted))"
   ]
  },
  {
   "cell_type": "code",
   "execution_count": 91,
   "id": "ff019ce9",
   "metadata": {},
   "outputs": [
    {
     "name": "stdout",
     "output_type": "stream",
     "text": [
      "[[3473   12   17   88]\n",
      " [  13 2533    9   41]\n",
      " [  31    9 2990  137]\n",
      " [  50   46   52 5626]]\n"
     ]
    },
    {
     "data": {
      "text/plain": [
       "<AxesSubplot:>"
      ]
     },
     "execution_count": 91,
     "metadata": {},
     "output_type": "execute_result"
    },
    {
     "data": {
      "image/png": "[encoded data removed]",
      "text/plain": [
       "<Figure size 720x504 with 2 Axes>"
      ]
     },
     "metadata": {},
     "output_type": "display_data"
    }
   ],
   "source": [
    "from sklearn.metrics import confusion_matrix\n",
    "\n",
    "#evaluate the model using confusion matrix\n",
    "conf_mat = confusion_matrix(y_test, count_vectorizer_predicted)\n",
    "\n",
    "print(conf_mat)\n",
    "\n",
    "df_cm = pd.DataFrame(\n",
    "    conf_mat, index=[i for i in [\"Household\", \"Clothing & Accessories\", \"Electronics\",\"Books\"]], \n",
    "    columns=[i for i in [\"Household\", \"Clothing & Accessories\", \"Electronics\",\"Books\"]]\n",
    ")\n",
    "plt.figure(figsize=(10, 7))\n",
    "sns.heatmap(df_cm, annot=True, fmt=\"g\")"
   ]
  },
  {
   "cell_type": "markdown",
   "id": "ea3978a9",
   "metadata": {},
   "source": [
    "#### Print the top 40 features and plot their word cloud - countvectorizer"
   ]
  },
  {
   "cell_type": "code",
   "execution_count": 1,
   "id": "9d5a5215",
   "metadata": {},
   "outputs": [],
   "source": [
    "#top 40 features and plot for countvectorizer\n",
    "\n",
    "all_features = (\n",
    "    Count_vec.get_feature_names()\n",
    ")  # Instantiate the feature from the vectorizer\n",
    "top_features = (\n",
    "    \"\"  # Top 40 feature into top_feature after training the model\n",
    ")\n",
    "feat = clf.feature_importances_\n",
    "features = np.argsort(feat)[::-1]\n",
    "for i in features[0:40]:\n",
    "    top_features += all_features[i]\n",
    "    top_features += \",\"\n",
    "\n",
    "print(top_features)\n",
    "\n",
    "print(\" \")\n",
    "print(\" \")\n",
    "\n",
    "from wordcloud import WordCloud\n",
    "\n",
    "wordcloud = WordCloud(\n",
    "    background_color=\"white\", colormap=\"viridis\", width=2000, height=1000\n",
    ").generate(top_features)\n",
    "\n",
    "# Display the generated image:\n",
    "plt.imshow(wordcloud, interpolation=\"bilinear\")\n",
    "plt.figure(1, figsize=(25, 25), frameon=\"equal\")\n",
    "plt.title(\"Top 40 features WordCloud\", fontsize=20)\n",
    "plt.axis(\"off\")\n",
    "plt.show()"
   ]
  },
  {
   "cell_type": "markdown",
   "id": "0b6eb2f6",
   "metadata": {},
   "source": [
    "#### b.TF-IDF\n",
    "TF * IDF which is equal to (W/Wr)*LOG(N/n)"
   ]
  },
  {
   "cell_type": "code",
   "execution_count": null,
   "id": "b2ef0f0e",
   "metadata": {},
   "outputs": [],
   "source": [
    "from sklearn.feature_extraction.text import TfidfVectorizer\n",
    "\n",
    "# Using TfidfVectorizer to convert text data to numbers\n",
    "tfidf_vect = TfidfVectorizer(max_features=5000)\n",
    "data_features = tfidf_vect.fit_transform(df['Text'])\n",
    "\n",
    "data_features = data_features.toarray()\n",
    "\n",
    "data_features.shape"
   ]
  },
  {
   "cell_type": "code",
   "execution_count": null,
   "id": "016e2df9",
   "metadata": {},
   "outputs": [],
   "source": [
    "X = data_features\n",
    "y = df.Label"
   ]
  },
  {
   "cell_type": "code",
   "execution_count": null,
   "id": "6866ee55",
   "metadata": {},
   "outputs": [],
   "source": [
    "# Split data into training and testing set.\n",
    "X_train, X_test, y_train, y_test = train_test_split(X, y, test_size=0.3, random_state=42)"
   ]
  },
  {
   "cell_type": "code",
   "execution_count": null,
   "id": "204a8791",
   "metadata": {},
   "outputs": [],
   "source": [
    "# build RF model for the classification of 'text'.\n",
    "from sklearn.ensemble import RandomForestClassifier\n",
    "from sklearn.model_selection import cross_val_score\n",
    "\n",
    "forest = RandomForestClassifier(n_estimators=10, n_jobs=4)\n",
    "forest = forest.fit(X_train, y_train)\n",
    "\n",
    "print(forest)\n",
    "\n",
    "# calculate the cross validation score.\n",
    "print(np.mean(cross_val_score(forest, X, y, cv=10)))"
   ]
  },
  {
   "cell_type": "code",
   "execution_count": null,
   "id": "94db9607",
   "metadata": {},
   "outputs": [],
   "source": [
    "# Find optimal number of base learners using k-fold CV\n",
    "base_ln = [x for x in range(1, 25)]\n",
    "base_ln"
   ]
  },
  {
   "cell_type": "code",
   "execution_count": null,
   "id": "4981b2b5",
   "metadata": {},
   "outputs": [],
   "source": [
    "# K-Fold Cross - validation .\n",
    "cv_scores = []\n",
    "for b in base_ln:\n",
    "    clf = RandomForestClassifier(n_estimators = b)\n",
    "    scores = cross_val_score(clf, X_train, y_train, cv = 5, scoring = 'accuracy')\n",
    "    cv_scores.append(scores.mean())"
   ]
  },
  {
   "cell_type": "code",
   "execution_count": null,
   "id": "6c19cfc0",
   "metadata": {},
   "outputs": [],
   "source": [
    "# plotting the error as k increases\n",
    "#error corresponds to each nu of estimator\n",
    "error = [1 - x for x in cv_scores]       \n",
    "\n",
    "#Selection of optimal nu of n_estimator corresponds to minimum error.\n",
    "optimal_learners = base_ln[error.index(min(error))]              \n",
    "\n",
    "#Plot between each nu of estimator and misclassification error\n",
    "plt.plot(base_ln, error)                                         \n",
    "\n",
    "xy = (optimal_learners, min(error))\n",
    "plt.annotate('(%s, %s)' % xy, xy = xy, textcoords='data')\n",
    "plt.xlabel(\"Number of base learners\")\n",
    "plt.ylabel(\"Misclassification Error\")\n",
    "plt.show()"
   ]
  },
  {
   "cell_type": "code",
   "execution_count": null,
   "id": "e5c5249d",
   "metadata": {},
   "outputs": [],
   "source": [
    "# Training the best model and calculating accuracy on test data .\n",
    "clf = RandomForestClassifier(n_estimators = optimal_learners)\n",
    "clf.fit(X_train, y_train)\n",
    "clf.score(X_test, y_test)"
   ]
  },
  {
   "cell_type": "code",
   "execution_count": null,
   "id": "bc624b0d",
   "metadata": {},
   "outputs": [],
   "source": [
    "result = forest.predict(X_test)"
   ]
  },
  {
   "cell_type": "code",
   "execution_count": null,
   "id": "a44a5c3b",
   "metadata": {},
   "outputs": [],
   "source": [
    "conf_mat = confusion_matrix(y_test, result)\n",
    "\n",
    "df_cm = pd.DataFrame(conf_mat, index = [i for i in [\"Household\", \"Clothing & Accessories\", \"Electronics\",\"Books\"]],\n",
    "                  columns = [i for i in [\"Household\", \"Clothing & Accessories\", \"Electronics\",\"Books\"]])\n",
    "plt.figure(figsize = (10,7))\n",
    "sns.heatmap(df_cm, annot=True, fmt='g')"
   ]
  },
  {
   "cell_type": "markdown",
   "id": "8d5cb088",
   "metadata": {},
   "source": [
    "#### Print the top 40 features and plot their word cloud - TF-IDF"
   ]
  },
  {
   "cell_type": "code",
   "execution_count": null,
   "id": "95d87575",
   "metadata": {},
   "outputs": [],
   "source": [
    "#Instantiate the feature by using TF-IDF\n",
    "all_features = tfidf_vect.get_feature_names()\n",
    "\n",
    "# Top 40 feature into top_feature after training the model\n",
    "top_features=''                                            \n",
    "feat=clf.feature_importances_\n",
    "features=np.argsort(feat)[::-1]\n",
    "for i in features[0:40]:\n",
    "    top_features+=all_features[i]\n",
    "    top_features+=', '\n",
    "    \n",
    "print(top_features)  \n",
    "\n",
    "print(\" \") \n",
    "print(\" \") \n",
    "\n",
    "from wordcloud import WordCloud\n",
    "wordcloud = WordCloud(background_color=\"white\",colormap='viridis',width=2000, \n",
    "                          height=1000).generate(top_features)\n",
    "\n",
    "# Display the generated image:\n",
    "plt.imshow(wordcloud, interpolation='bilinear')\n",
    "plt.figure(1, figsize=(14, 11), frameon='equal')\n",
    "plt.title('Top 40 features WordCloud', fontsize=20)\n",
    "plt.axis(\"off\")\n",
    "plt.show()"
   ]
  },
  {
   "cell_type": "markdown",
   "id": "373dfefc",
   "metadata": {},
   "source": [
    "#### Summarize the application of Various Pre-processing and Vectorization and the performance of your model on this dataset."
   ]
  },
  {
   "cell_type": "markdown",
   "id": "ecbb163f",
   "metadata": {},
   "source": [
    "#### Summary:\n",
    "- Used dataset which has production classification in text format and their descriptions about the product.\n",
    "- Built a model for text-classification by plotting the word cloud of production description.\n",
    "\n",
    "- Plotted the percentage of public reviews about 4 products.\n",
    "- Plotted the distribution of productions from all the texts\n",
    "- Plotted the distribution of customers review for each productions.\n",
    "- Plotted the distribution of all the description text of products that customers' bought\n",
    "\n",
    "\n",
    "- The pre-precessed data is converted(vectorized) to numbers with CountVectorizer and TF-IDF.\n",
    "- After building the classification model, predicted the result for the test data.\n",
    "- Trained the model and optimize the parameter that led to significant increase in the overall accuracy.After using the above techniques, model performed good in perspective of how the text classification models perform.\n",
    "- Able to increase the max_feature parameter in the vectorizer also able to apply other model and hyperparameter tuning to increase the overall accuracy.\n",
    "- One more way to increase accuracy is to use different variations of Pre-processing techniques."
   ]
  }
 ],
 "metadata": {
  "kernelspec": {
   "display_name": "Python 3",
   "language": "python",
   "name": "python3"
  },
  "language_info": {
   "codemirror_mode": {
    "name": "ipython",
    "version": 3
   },
   "file_extension": ".py",
   "mimetype": "text/x-python",
   "name": "python",
   "nbconvert_exporter": "python",
   "pygments_lexer": "ipython3",
   "version": "3.8.8"
  }
 },
 "nbformat": 4,
 "nbformat_minor": 5
}
